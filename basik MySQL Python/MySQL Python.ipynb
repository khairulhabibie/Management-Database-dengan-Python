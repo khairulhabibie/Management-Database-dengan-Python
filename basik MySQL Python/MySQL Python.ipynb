{
 "cells": [
  {
   "cell_type": "code",
   "execution_count": 10,
   "metadata": {},
   "outputs": [
    {
     "name": "stdout",
     "output_type": "stream",
     "text": [
      "<mysql.connector.connection.MySQLConnection object at 0x000001F5712EBC18>\n"
     ]
    }
   ],
   "source": [
    "# import package\n",
    "from mysql.connector import connect\n",
    "\n",
    "# 01 - membuat koneksi dengan database\n",
    "db = connect(\n",
    "    host = \"localhost\",\n",
    "    user = \"root\",\n",
    "    password = \"sayaBelajar\"\n",
    ")\n",
    "print(db)"
   ]
  },
  {
   "cell_type": "code",
   "execution_count": 11,
   "metadata": {},
   "outputs": [],
   "source": [
    "# 02 - membuat database\n",
    "cursor_db = db.cursor() \n",
    "cursor_db.execute(\"DROP DATABASE IF EXISTS school\")         # hapus database jika ada\n",
    "cursor_db.execute(\"CREATE DATABASE IF NOT EXISTS school\")   # buat database jika tidak ada\n",
    "cursor_db.close()\n",
    "db.close()\n",
    "    # membuat koneksi baru\n",
    "db = connect(\n",
    "  host=\"localhost\",\n",
    "  user=\"root\",\n",
    "  password=\"sayaBelajar\",                            \n",
    "  database=\"school\"\n",
    ")"
   ]
  },
  {
   "cell_type": "code",
   "execution_count": 12,
   "metadata": {},
   "outputs": [],
   "source": [
    "# 03 - membuat atribut table\n",
    "cursor_db = db.cursor() \n",
    "cursor_db.execute(\n",
    "    '''CREATE Table students(\n",
    "        id_siswa int primary key auto_increment,\n",
    "        nama VARCHAR(50) not null,\n",
    "        id_kelas int not null,\n",
    "        tahun_masuk int not null\n",
    "    )'''\n",
    ")"
   ]
  },
  {
   "cell_type": "code",
   "execution_count": 13,
   "metadata": {},
   "outputs": [],
   "source": [
    "# 04 - memasukkan data kedalam table\n",
    "    # Cara 1\n",
    "query = '''\n",
    "INSERT INTO students (nama, id_kelas, tahun_masuk)\n",
    "VALUES\n",
    "    ('shiroe', 21, 2012),\n",
    "    ('akatsuki', 21, 2012),\n",
    "    ('naotsugu', 21, 2012),\n",
    "    ('minori', 13, 2013),\n",
    "    ('touya', 13, 2013),\n",
    "    ('kanami', 31, 2011)\n",
    "'''\n",
    "cursor_db.execute(query)\n",
    "db.commit()"
   ]
  },
  {
   "cell_type": "code",
   "execution_count": 14,
   "metadata": {},
   "outputs": [
    {
     "data": {
      "text/plain": [
       "'\\n    # menutup database\\ncursor_db.close()\\ndb.close()\\n'"
      ]
     },
     "execution_count": 14,
     "metadata": {},
     "output_type": "execute_result"
    }
   ],
   "source": [
    "     # cara 2\n",
    "input_list = [\n",
    "\n",
    "    ('shiroe', 21, 2012),\n",
    "    ('akatsuki', 21, 2012),\n",
    "    ('naotsugu', 21, 2012),\n",
    "    ('minori', 13, 2013),\n",
    "    ('touya', 13, 2013),\n",
    "    ('kanami', 31, 2011)\n",
    "\n",
    "]\n",
    "\n",
    "for data in input_list:\n",
    "\n",
    "    query = '''\n",
    "\n",
    "    INSERT INTO students (nama, id_kelas, tahun_masuk)\n",
    "\n",
    "    VALUES (%s, %s, %s)\n",
    "\n",
    "    '''\n",
    "\n",
    "    cursor_db.execute(query, data)\n",
    "\n",
    "db.commit()\n",
    "\n",
    "'''\n",
    "    # menutup database\n",
    "cursor_db.close()\n",
    "db.close()\n",
    "'''\n"
   ]
  },
  {
   "cell_type": "code",
   "execution_count": 15,
   "metadata": {},
   "outputs": [
    {
     "name": "stdout",
     "output_type": "stream",
     "text": [
      "(1, 'shiroe', 21, 2012)\n",
      "(2, 'akatsuki', 21, 2012)\n",
      "(3, 'naotsugu', 21, 2012)\n",
      "(4, 'minori', 13, 2013)\n",
      "(5, 'touya', 13, 2013)\n",
      "(6, 'kanami', 31, 2011)\n",
      "(7, 'shiroe', 21, 2012)\n",
      "(8, 'akatsuki', 21, 2012)\n",
      "(9, 'naotsugu', 21, 2012)\n",
      "(10, 'minori', 13, 2013)\n",
      "(11, 'touya', 13, 2013)\n",
      "(12, 'kanami', 31, 2011)\n"
     ]
    }
   ],
   "source": [
    "# 05 - melihat data di dalam table\n",
    "def insert_data():\n",
    "    query = '''select * from students'''\n",
    "    cursor_db.execute(query)\n",
    "    data = cursor_db.fetchall()\n",
    "\n",
    "    #Untuk menampilkan kita bisa menggunakan for loop,\n",
    "    for row in data:\n",
    "        print(row)\n",
    "\n",
    "insert_data()"
   ]
  },
  {
   "cell_type": "code",
   "execution_count": 16,
   "metadata": {},
   "outputs": [],
   "source": [
    "# Menutup database\n",
    "cursor_db.close()\n",
    "db.close()"
   ]
  }
 ],
 "metadata": {
  "interpreter": {
   "hash": "a7a5a4b9bb287d33a8a9ddbe70120891a9d252e4f3644c9174aecef205c26e2a"
  },
  "kernelspec": {
   "display_name": "Python 3.7.0 64-bit ('Env': venv)",
   "language": "python",
   "name": "python3"
  },
  "language_info": {
   "codemirror_mode": {
    "name": "ipython",
    "version": 3
   },
   "file_extension": ".py",
   "mimetype": "text/x-python",
   "name": "python",
   "nbconvert_exporter": "python",
   "pygments_lexer": "ipython3",
   "version": "3.7.0"
  },
  "orig_nbformat": 4
 },
 "nbformat": 4,
 "nbformat_minor": 2
}
